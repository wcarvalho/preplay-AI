{
 "cells": [
  {
   "cell_type": "code",
   "execution_count": 1,
   "id": "0e36084d-e09b-4954-82ca-2034a43572d5",
   "metadata": {},
   "outputs": [],
   "source": [
    "%load_ext autoreload\n",
    "%autoreload 2"
   ]
  },
  {
   "cell_type": "code",
   "execution_count": 2,
   "id": "af000c3d-312f-4f53-a71f-05e18f6ac50b",
   "metadata": {},
   "outputs": [
    {
     "name": "stdout",
     "output_type": "stream",
     "text": [
      "at directory: /Users/wilka/git/research/jaxneurorl/projects/humansf\n",
      "changing to root directory\n",
      "at directory: /Users/wilka/git/research/jaxneurorl\n"
     ]
    }
   ],
   "source": [
    "import os\n",
    "import sys\n",
    "print(\"at directory:\", os.getcwd())\n",
    "print(\"changing to root directory\")\n",
    "os.chdir(\"../..\")\n",
    "print(\"at directory:\", os.getcwd())"
   ]
  },
  {
   "cell_type": "code",
   "execution_count": 3,
   "id": "94381f2a-d6e4-49b4-82c7-e39969d972ba",
   "metadata": {},
   "outputs": [],
   "source": [
    "import jax\n",
    "import jax.numpy as jnp\n",
    "import functools\n",
    "\n",
    "from projects.humansf import housemaze_experiments\n",
    "from housemaze import renderer\n",
    "from housemaze import utils\n",
    "from housemaze.human_dyna import env as maze\n",
    "from jaxneurorl import launcher"
   ]
  },
  {
   "cell_type": "code",
   "execution_count": 4,
   "id": "cd5be096-d438-4761-af08-1616ca12bc74",
   "metadata": {},
   "outputs": [
    {
     "name": "stdout",
     "output_type": "stream",
     "text": [
      "==================================================\n",
      "Running\n",
      "==================================================\n",
      "{'ACTIVATION': 'relu',\n",
      " 'AGENT_RNN_DIM': 256,\n",
      " 'ALG': 'pqn',\n",
      " 'BATCH_SIZE': 131072,\n",
      " 'EMBED_HIDDEN_DIM': 64,\n",
      " 'ENV_NAME': 'housemaze',\n",
      " 'EPSILON_ANNEAL_TIME': None,\n",
      " 'EPSILON_FINISH': 0.1,\n",
      " 'EPSILON_START': 1.0,\n",
      " 'EPS_ADAM': 1e-05,\n",
      " 'EVAL_EPISODES': 100,\n",
      " 'EVAL_LOG_PERIOD': 5,\n",
      " 'EVAL_LOG_PERIOD_ACTOR': 0,\n",
      " 'EVAL_STEPS': 100,\n",
      " 'FIXED_EPSILON': 2,\n",
      " 'GAMMA': 0.99,\n",
      " 'GRADIENT_LOG_PERIOD': 50,\n",
      " 'LEARNER_EXTRA_LOG_PERIOD': 100,\n",
      " 'LEARNER_LOG_PERIOD': 50,\n",
      " 'LR': 0.001,\n",
      " 'LR_LINEAR_DECAY': False,\n",
      " 'MAX_EPISODE_LOG_LEN': 40,\n",
      " 'MAX_GRAD_NORM': 80,\n",
      " 'MLP_HIDDEN_DIM': 256,\n",
      " 'NORM_QFN': 'layer_norm',\n",
      " 'NORM_TYPE': 'layer_norm',\n",
      " 'NUM_EMBED_LAYERS': 0,\n",
      " 'NUM_EPOCHS': 4,\n",
      " 'NUM_MINIBATCHES': 4,\n",
      " 'NUM_MLP_LAYERS': 0,\n",
      " 'NUM_Q_LAYERS': 2,\n",
      " 'NUM_SEEDS': 1,\n",
      " 'NUM_UPDATES_DECAY': None,\n",
      " 'PROJECT': 'housemaze',\n",
      " 'SEED': 1,\n",
      " 'TOTAL_TIMESTEPS': 10000000,\n",
      " 'TRAINING_INTERVAL': 128,\n",
      " 'account': None,\n",
      " 'alg': {'ACTIVATION': 'relu',\n",
      "         'AGENT_RNN_DIM': 256,\n",
      "         'ALG': 'pqn',\n",
      "         'BATCH_SIZE': 131072,\n",
      "         'EMBED_HIDDEN_DIM': 64,\n",
      "         'EPSILON_ANNEAL_TIME': None,\n",
      "         'EPSILON_FINISH': 0.1,\n",
      "         'EPSILON_START': 1.0,\n",
      "         'EPS_ADAM': 1e-05,\n",
      "         'EVAL_EPISODES': 100,\n",
      "         'EVAL_LOG_PERIOD': 5,\n",
      "         'EVAL_LOG_PERIOD_ACTOR': 0,\n",
      "         'EVAL_STEPS': 100,\n",
      "         'FIXED_EPSILON': 2,\n",
      "         'GAMMA': 0.99,\n",
      "         'GRADIENT_LOG_PERIOD': 50,\n",
      "         'LEARNER_EXTRA_LOG_PERIOD': 100,\n",
      "         'LEARNER_LOG_PERIOD': 50,\n",
      "         'LR': 0.001,\n",
      "         'LR_LINEAR_DECAY': False,\n",
      "         'MAX_EPISODE_LOG_LEN': 40,\n",
      "         'MAX_GRAD_NORM': 80,\n",
      "         'MLP_HIDDEN_DIM': 256,\n",
      "         'NORM_QFN': 'layer_norm',\n",
      "         'NORM_TYPE': 'layer_norm',\n",
      "         'NUM_EMBED_LAYERS': 0,\n",
      "         'NUM_EPOCHS': 4,\n",
      "         'NUM_MINIBATCHES': 4,\n",
      "         'NUM_MLP_LAYERS': 0,\n",
      "         'NUM_Q_LAYERS': 2,\n",
      "         'NUM_SEEDS': 1,\n",
      "         'NUM_UPDATES_DECAY': None,\n",
      "         'SEED': 1,\n",
      "         'TOTAL_TIMESTEPS': 10000000,\n",
      "         'TRAINING_INTERVAL': 128},\n",
      " 'app': {'PROJECT': None,\n",
      "         'account': 'kempner_fellows',\n",
      "         'base_path': None,\n",
      "         'config_idx': 1,\n",
      "         'debug': False,\n",
      "         'debug_sweep': False,\n",
      "         'group': None,\n",
      "         'max_concurrent': 12,\n",
      "         'memory': 120000,\n",
      "         'num_cpus': 12,\n",
      "         'num_gpus': 1,\n",
      "         'parallel': 'none',\n",
      "         'partition': 'kempner',\n",
      "         'search': '',\n",
      "         'search_method': 'bayes',\n",
      "         'settings_config': '',\n",
      "         'subprocess': False,\n",
      "         'time': '0-01:00:00',\n",
      "         'wandb': True,\n",
      "         'wandb_search': False},\n",
      " 'base_path': None,\n",
      " 'config_idx': 1,\n",
      " 'debug': False,\n",
      " 'debug_sweep': False,\n",
      " 'entity': None,\n",
      " 'exp': 'maze1_all',\n",
      " 'group': None,\n",
      " 'hydra/hydra_logging': 'disabled',\n",
      " 'hydra/job_logging': 'disabled',\n",
      " 'hydra/output_subdir': None,\n",
      " 'max_concurrent': 12,\n",
      " 'memory': 120000,\n",
      " 'num_cpus': 12,\n",
      " 'num_gpus': 1,\n",
      " 'parallel': 'none',\n",
      " 'partition': None,\n",
      " 'rlenv': {'ENV_KWARGS': {},\n",
      "           'ENV_NAME': 'housemaze',\n",
      "           'PROJECT': 'housemaze',\n",
      "           'exp': 'maze1_all'},\n",
      " 'search': '',\n",
      " 'search_method': 'bayes',\n",
      " 'settings_config': '',\n",
      " 'subprocess': False,\n",
      " 'time': '0-01:00:00',\n",
      " 'user': {'account': None,\n",
      "          'entity': None,\n",
      "          'partition': None,\n",
      "          'wandb_api_key': None},\n",
      " 'wandb': True,\n",
      " 'wandb_api_key': None,\n",
      " 'wandb_search': False}\n"
     ]
    }
   ],
   "source": [
    "import hydra\n",
    "from omegaconf import OmegaConf\n",
    "with hydra.initialize(\n",
    "    version_base=None,\n",
    "    config_path='../../projects/humansf/configs'):\n",
    "    config = hydra.compose(\n",
    "      config_name='config',\n",
    "        overrides=['alg=pqn'],\n",
    "    )\n",
    "    config = OmegaConf.to_container(config)\n",
    "config = launcher.default_process_configs(\n",
    "    config)"
   ]
  },
  {
   "cell_type": "code",
   "execution_count": 5,
   "id": "73d839f4-70a5-44b6-a6f7-f14cd78816c1",
   "metadata": {},
   "outputs": [
    {
     "name": "stdout",
     "output_type": "stream",
     "text": [
      "No file specified for image dict.\n",
      "Using: /Users/wilka/git/research/jaxneurorl/libraries/housemaze/housemaze/image_data.pkl\n"
     ]
    }
   ],
   "source": [
    "import matplotlib.pyplot as plt\n",
    "\n",
    "image_dict = utils.load_image_dict()\n",
    "\n",
    "def render_timestep(timestep):\n",
    "    image = renderer.create_image_from_grid(\n",
    "        timestep.state.grid,\n",
    "        timestep.state.agent_pos,\n",
    "        timestep.state.agent_dir,\n",
    "        image_dict)\n",
    "    plt.imshow(image)\n",
    "    plt.show()"
   ]
  },
  {
   "cell_type": "code",
   "execution_count": 1,
   "id": "5e8b949a-93db-43e7-8c3e-04e145735537",
   "metadata": {},
   "outputs": [
    {
     "ename": "NameError",
     "evalue": "name 'housemaze_experiments' is not defined",
     "output_type": "error",
     "traceback": [
      "\u001b[0;31m---------------------------------------------------------------------------\u001b[0m",
      "\u001b[0;31mNameError\u001b[0m                                 Traceback (most recent call last)",
      "Cell \u001b[0;32mIn[1], line 2\u001b[0m\n\u001b[1;32m      1\u001b[0m exp \u001b[38;5;241m=\u001b[39m \u001b[38;5;124m'\u001b[39m\u001b[38;5;124mmaze3_randomize\u001b[39m\u001b[38;5;124m'\u001b[39m\n\u001b[0;32m----> 2\u001b[0m exp_fn \u001b[38;5;241m=\u001b[39m \u001b[38;5;28mgetattr\u001b[39m(\u001b[43mhousemaze_experiments\u001b[49m, exp, \u001b[38;5;28;01mNone\u001b[39;00m)\n\u001b[1;32m      3\u001b[0m env_params, test_env_params, task_objects \u001b[38;5;241m=\u001b[39m exp_fn(config)\n",
      "\u001b[0;31mNameError\u001b[0m: name 'housemaze_experiments' is not defined"
     ]
    }
   ],
   "source": [
    "exp = 'maze3_randomize'\n",
    "exp_fn = getattr(housemaze_experiments, exp, None)\n",
    "env_params, test_env_params, task_objects = exp_fn(config)\n"
   ]
  },
  {
   "cell_type": "code",
   "execution_count": 10,
   "id": "9e6020a9-f9cd-4e39-8c36-c3b72d211f3f",
   "metadata": {},
   "outputs": [
    {
     "data": {
      "image/png": "[encoded data removed]",
      "text/plain": [
       "<Figure size 640x480 with 1 Axes>"
      ]
     },
     "metadata": {},
     "output_type": "display_data"
    }
   ],
   "source": [
    "seed = 7\n",
    "rng = jax.random.PRNGKey(seed)\n",
    "\n",
    "task_runner = maze.TaskRunner(\n",
    "    task_objects=task_objects)\n",
    "env = maze.HouseMaze(\n",
    "    task_runner=task_runner,\n",
    "    num_categories=len(image_dict['keys']),\n",
    ")\n",
    "env = utils.AutoResetWrapper(env)\n",
    "\n",
    "reset_timestep = env.reset(rng, env_params)\n",
    "render_timestep(reset_timestep)\n"
   ]
  },
  {
   "cell_type": "code",
   "execution_count": 10,
   "id": "fa47a08c-4222-480d-87d0-48f9e9c9264c",
   "metadata": {},
   "outputs": [
    {
     "data": {
      "text/plain": [
       "{'ALG': 'qlearning',\n",
       " 'NUM_SEEDS': 1,\n",
       " 'SEED': 1,\n",
       " 'MAX_EPISODE_LOG_LEN': 40,\n",
       " 'NUM_ENVS': 32,\n",
       " 'EVAL_STEPS': 100,\n",
       " 'EVAL_EPISODES': 100,\n",
       " 'LEARNER_LOG_PERIOD': 500,\n",
       " 'LEARNER_EXTRA_LOG_PERIOD': 5000,\n",
       " 'EVAL_LOG_PERIOD': 25,\n",
       " 'EVAL_LOG_PERIOD_ACTOR': 0,\n",
       " 'GRADIENT_LOG_PERIOD': 5000,\n",
       " 'AGENT_HIDDEN_DIM': 32,\n",
       " 'NUM_EMBED_LAYERS': 0,\n",
       " 'NUM_GRID_LAYERS': 1,\n",
       " 'NUM_ENCODER_LAYERS': 2,\n",
       " 'IMAGE_HIDDEN': 256,\n",
       " 'ENCODER_INIT': 'word_init',\n",
       " 'AGENT_RNN_DIM': 256,\n",
       " 'BUFFER_SIZE': 50000,\n",
       " 'BUFFER_BATCH_SIZE': 32,\n",
       " 'SAMPLE_LENGTH': 40,\n",
       " 'LEARNING_STARTS': 10000,\n",
       " 'TRAINING_INTERVAL': 10,\n",
       " 'FIXED_EPSILON': 2,\n",
       " 'TOTAL_TIMESTEPS': 10000000.0,\n",
       " 'EPSILON_START': 1.0,\n",
       " 'EPSILON_FINISH': 0.1,\n",
       " 'EPSILON_ANNEAL_TIME': 500000.0,\n",
       " 'MAX_GRAD_NORM': 80,\n",
       " 'TARGET_UPDATE_INTERVAL': 1000,\n",
       " 'LR': 0.001,\n",
       " 'LR_LINEAR_DECAY': False,\n",
       " 'EPS_ADAM': 1e-05,\n",
       " 'GAMMA': 0.99,\n",
       " 'hydra/output_subdir': None,\n",
       " 'hydra/hydra_logging': 'disabled',\n",
       " 'hydra/job_logging': 'disabled',\n",
       " 'user': {'ENTITY': 'wcarvalho92',\n",
       "  'SLURM_PARTITION': 'kempner',\n",
       "  'SLURM_ACCOUNT': 'kempner_fellows'},\n",
       " 'debug': {'NUM_ENVS': 2,\n",
       "  'TRAINING_INTERVAL': 1,\n",
       "  'TOTAL_TIMESTEPS': 5000,\n",
       "  'EVAL_EPISODES': 1,\n",
       "  'EVAL_STEPS': 10,\n",
       "  'BUFFER_SIZE': 100,\n",
       "  'LEARNING_STARTS': 0,\n",
       "  'BUFFER_BATCH_SIZE': 1,\n",
       "  'SAMPLE_LENGTH': 4,\n",
       "  'LEARNER_LOG_PERIOD': 1,\n",
       "  'GRADIENT_LOG_PERIOD': 1,\n",
       "  'LEARNER_EXTRA_LOG_PERIOD': 1,\n",
       "  'EVAL_LOG_PERIOD': 1,\n",
       "  'MAX_EPISODE_LOG_LEN': 2,\n",
       "  'DEBUG': True,\n",
       "  'OBSERVER_PERIOD': 10,\n",
       "  'OBSERVER_EPISODES': 1,\n",
       "  'NUM_SIMULATIONS': 2,\n",
       "  'SIMULATION_LENGTH': 3,\n",
       "  'AGENT_HIDDEN_DIM': 16,\n",
       "  'IMAGE_HIDDEN': 16,\n",
       "  'AGENT_RNN_DIM': 16,\n",
       "  'GRID_HIDDEN': 16,\n",
       "  'NUM_BINS': 11,\n",
       "  'NUM_EMBED_LAYERS': 0,\n",
       "  'NUM_GRID_LAYERS': 1,\n",
       "  'NUM_ENCODER_LAYERS': 1,\n",
       "  'ENV_KWARGS': {'time_limit': 4}},\n",
       " 'env': {'PROJECT': 'keyroom', 'ENV_NAME': 'keyroom'}}"
      ]
     },
     "execution_count": 10,
     "metadata": {},
     "output_type": "execute_result"
    }
   ],
   "source": []
  },
  {
   "cell_type": "code",
   "execution_count": 11,
   "id": "174e0574-d189-4bc2-819f-f62f8f28387a",
   "metadata": {},
   "outputs": [],
   "source": [
    "config['TOTAL_TIMESTEPS'] = 1e3"
   ]
  },
  {
   "cell_type": "code",
   "execution_count": 12,
   "id": "9669ec73-bb92-4320-8b54-fce0c89c10e1",
   "metadata": {},
   "outputs": [
    {
     "name": "stdout",
     "output_type": "stream",
     "text": [
      "==================================================\n",
      "Total number of params: 2,234,944\n",
      "\tobservation_encoder: 1,576,512\n",
      "\trnn: 525,312\n",
      "\tq_fn: 133,120\n",
      "==================================================\n",
      "TRAINING\n",
      "==================================================\n"
     ]
    }
   ],
   "source": [
    "import functools\n",
    "from jaxneurorl.agents import value_based_basics as vbb\n",
    "from projects.humansf import qlearning\n",
    "from projects.humansf import networks\n",
    "\n",
    "make_train = functools.partial(\n",
    "          vbb.make_train,\n",
    "          make_agent=functools.partial(\n",
    "             qlearning.make_agent,\n",
    "             ObsEncoderCls=networks.HouzemazeObsEncoder,\n",
    "             ),\n",
    "          make_optimizer=qlearning.make_optimizer,\n",
    "          make_loss_fn_class=qlearning.make_loss_fn_class,\n",
    "          make_actor=qlearning.make_actor,\n",
    "      )\n",
    "\n",
    "train_fn = make_train(\n",
    "      config=config,\n",
    "      env=env,\n",
    "      train_env_params=env_params,\n",
    "      test_env_params=test_env_params,\n",
    "      #ObserverCls=observer_class,\n",
    "      )\n",
    "train_vjit = jax.jit(jax.vmap(train_fn))\n",
    "\n",
    "rng = jax.random.PRNGKey(config[\"SEED\"])\n",
    "rngs = jax.random.split(rng, config[\"NUM_SEEDS\"])\n",
    "outs = jax.block_until_ready(train_vjit(rngs))\n"
   ]
  },
  {
   "cell_type": "code",
   "execution_count": null,
   "id": "10d8f31b-49ae-4795-9a42-9121ea1270dc",
   "metadata": {},
   "outputs": [],
   "source": []
  }
 ],
 "metadata": {
  "kernelspec": {
   "display_name": "Python 3 (ipykernel)",
   "language": "python",
   "name": "python3"
  },
  "language_info": {
   "codemirror_mode": {
    "name": "ipython",
    "version": 3
   },
   "file_extension": ".py",
   "mimetype": "text/x-python",
   "name": "python",
   "nbconvert_exporter": "python",
   "pygments_lexer": "ipython3",
   "version": "3.10.0"
  }
 },
 "nbformat": 4,
 "nbformat_minor": 5
}
