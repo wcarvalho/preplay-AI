{
 "cells": [
  {
   "cell_type": "code",
   "execution_count": 1,
   "id": "3af74722-fc6e-40e8-9d6d-102cc71e5b05",
   "metadata": {},
   "outputs": [],
   "source": [
    "%load_ext autoreload\n",
    "%autoreload 2"
   ]
  },
  {
   "cell_type": "code",
   "execution_count": 2,
   "id": "c383415b-475c-4a51-86fa-e5c3ac8bd11b",
   "metadata": {},
   "outputs": [
    {
     "name": "stdout",
     "output_type": "stream",
     "text": [
      "Loading textures from cache.\n",
      "Textures successfully loaded from cache.\n"
     ]
    }
   ],
   "source": [
    "from craftax.craftax_env import make_craftax_env_from_name\n",
    "import jax\n",
    "import numpy as np\n",
    "import jax.numpy as jnp\n",
    "from functools import partial\n",
    "from craftax.craftax.renderer import render_craftax_pixels\n",
    "from craftax.craftax import constants\n",
    "import matplotlib.pyplot as plt\n",
    "import craftax_env\n",
    "from craftax.craftax.constants import Action"
   ]
  },
  {
   "cell_type": "code",
   "execution_count": null,
   "id": "1c2bd2e9-815d-4e91-b7f4-bc0c34ffc851",
   "metadata": {},
   "outputs": [
    {
     "name": "stderr",
     "output_type": "stream",
     "text": [
      "/Users/wilka/miniforge3/envs/preplay-ai/lib/python3.10/site-packages/jax/_src/core.py:700: FutureWarning: unhashable type: <class 'jax._src.interpreters.partial_eval.DynamicJaxprTracer'>. Attempting to hash a tracer will lead to an error in a future JAX release.\n",
      "  warnings.warn(\n"
     ]
    }
   ],
   "source": [
    "from craftax_env import CraftaxSymbolicEnvNoAutoReset\n",
    "from jaxneurorl.wrappers import TimestepWrapper\n",
    "\n",
    "render = jax.jit(partial(render_craftax_pixels, block_pixel_size=constants.BLOCK_PIXEL_SIZE_IMG))\n",
    "def render_craftax(state):\n",
    "    image = render_craftax_pixels(state, block_pixel_size=constants.BLOCK_PIXEL_SIZE_IMG)\n",
    "    return image/255.0\n",
    "    \n",
    "render_craftax = jax.jit(render_craftax)\n",
    "\n",
    "\n",
    "env = TimestepWrapper(CraftaxSymbolicEnvNoAutoReset(), False)\n",
    "env_params = env.default_params.replace(\n",
    "    mob_despawn_distance=3,\n",
    "    day_length=3,\n",
    "    reset_seeds=jnp.arange(2, 4),\n",
    "    max_timesteps=3,\n",
    ")\n",
    "\n",
    "seed = 16\n",
    "rng = jax.random.PRNGKey(seed)\n",
    "\n",
    "timestep = env.reset(rng, env_params)\n",
    "image = render_craftax(timestep.state)\n",
    "plt.imshow(image)\n",
    "plt.show()\n",
    "possible = craftax_env.get_possible_achievements(timestep.state)\n",
    "craftax_env.print_possible_achievements(possible)\n"
   ]
  },
  {
   "cell_type": "code",
   "execution_count": null,
   "id": "8305e26c-5252-4350-ac40-b093ce74f12a",
   "metadata": {},
   "outputs": [],
   "source": [
    "for _ in range(10):\n",
    "    print('-'*10)\n",
    "    rng, rng_ = jax.random.split(rng)\n",
    "    action = env.action_space().sample(rng_)\n",
    "    timestep = env.step(rng, timestep, action, env_params)\n",
    "    image = render_craftax(timestep.state)\n",
    "    plt.imshow(image)\n",
    "    plt.show()\n",
    "    print(timestep.last())\n",
    "    possible = craftax_env.get_possible_achievements(timestep.state)\n",
    "    craftax_env.print_possible_achievements(possible)\n"
   ]
  },
  {
   "cell_type": "code",
   "execution_count": null,
   "id": "f26f69f8-3369-4641-9da9-eb074a499de6",
   "metadata": {},
   "outputs": [],
   "source": []
  }
 ],
 "metadata": {
  "kernelspec": {
   "display_name": "Python 3 (ipykernel)",
   "language": "python",
   "name": "python3"
  },
  "language_info": {
   "codemirror_mode": {
    "name": "ipython",
    "version": 3
   },
   "file_extension": ".py",
   "mimetype": "text/x-python",
   "name": "python",
   "nbconvert_exporter": "python",
   "pygments_lexer": "ipython3",
   "version": "3.10.15"
  }
 },
 "nbformat": 4,
 "nbformat_minor": 5
}
